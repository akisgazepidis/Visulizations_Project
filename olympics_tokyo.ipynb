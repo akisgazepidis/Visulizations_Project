{
 "cells": [
  {
   "cell_type": "code",
   "execution_count": 1,
   "id": "114c3bf0",
   "metadata": {
    "ExecuteTime": {
     "end_time": "2021-11-30T09:27:59.055262Z",
     "start_time": "2021-11-30T09:27:56.812499Z"
    }
   },
   "outputs": [],
   "source": [
    "import pandas as pd \n",
    "import numpy as np\n",
    "import klib\n",
    "import matplotlib.pyplot as plt \n",
    "import seaborn as sns\n",
    "import matplotlib.patches as patches"
   ]
  },
  {
   "cell_type": "code",
   "execution_count": 2,
   "id": "b513ec51",
   "metadata": {
    "ExecuteTime": {
     "end_time": "2021-11-30T09:28:00.849905Z",
     "start_time": "2021-11-30T09:27:59.065205Z"
    }
   },
   "outputs": [
    {
     "name": "stderr",
     "output_type": "stream",
     "text": [
      "C:\\Users\\Intel PC G5900\\anaconda3\\lib\\site-packages\\openpyxl\\styles\\stylesheet.py:226: UserWarning: Workbook contains no default style, apply openpyxl's default\n",
      "  warn(\"Workbook contains no default style, apply openpyxl's default\")\n"
     ]
    }
   ],
   "source": [
    "athletes = pd.read_excel('Athletes.xlsx')\n",
    "coaches = pd.read_excel('Coaches.xlsx')\n",
    "entriesgender = pd.read_excel('EntriesGender.xlsx')\n",
    "medals = pd.read_excel('Medals.xlsx')\n",
    "teams = pd.read_excel('Teams.xlsx')"
   ]
  },
  {
   "cell_type": "code",
   "execution_count": 3,
   "id": "97a17060",
   "metadata": {
    "ExecuteTime": {
     "end_time": "2021-11-30T09:28:00.864866Z",
     "start_time": "2021-11-30T09:28:00.851901Z"
    }
   },
   "outputs": [
    {
     "name": "stdout",
     "output_type": "stream",
     "text": [
      "(11085, 3)\n",
      "(394, 4)\n",
      "(46, 4)\n",
      "(93, 7)\n",
      "(743, 4)\n"
     ]
    }
   ],
   "source": [
    "print(athletes.shape)\n",
    "print(coaches.shape)\n",
    "print(entriesgender.shape)\n",
    "print(medals.shape)\n",
    "print(teams.shape)"
   ]
  },
  {
   "cell_type": "code",
   "execution_count": 4,
   "id": "6c1978ca",
   "metadata": {
    "ExecuteTime": {
     "end_time": "2021-11-30T09:28:00.930201Z",
     "start_time": "2021-11-30T09:28:00.895294Z"
    }
   },
   "outputs": [
    {
     "data": {
      "text/html": [
       "<div>\n",
       "<style scoped>\n",
       "    .dataframe tbody tr th:only-of-type {\n",
       "        vertical-align: middle;\n",
       "    }\n",
       "\n",
       "    .dataframe tbody tr th {\n",
       "        vertical-align: top;\n",
       "    }\n",
       "\n",
       "    .dataframe thead th {\n",
       "        text-align: right;\n",
       "    }\n",
       "</style>\n",
       "<table border=\"1\" class=\"dataframe\">\n",
       "  <thead>\n",
       "    <tr style=\"text-align: right;\">\n",
       "      <th></th>\n",
       "      <th>Name</th>\n",
       "      <th>Discipline</th>\n",
       "      <th>NOC</th>\n",
       "      <th>Event</th>\n",
       "    </tr>\n",
       "  </thead>\n",
       "  <tbody>\n",
       "    <tr>\n",
       "      <th>0</th>\n",
       "      <td>Belgium</td>\n",
       "      <td>3x3 Basketball</td>\n",
       "      <td>Belgium</td>\n",
       "      <td>Men</td>\n",
       "    </tr>\n",
       "    <tr>\n",
       "      <th>1</th>\n",
       "      <td>China</td>\n",
       "      <td>3x3 Basketball</td>\n",
       "      <td>People's Republic of China</td>\n",
       "      <td>Men</td>\n",
       "    </tr>\n",
       "    <tr>\n",
       "      <th>2</th>\n",
       "      <td>China</td>\n",
       "      <td>3x3 Basketball</td>\n",
       "      <td>People's Republic of China</td>\n",
       "      <td>Women</td>\n",
       "    </tr>\n",
       "    <tr>\n",
       "      <th>3</th>\n",
       "      <td>France</td>\n",
       "      <td>3x3 Basketball</td>\n",
       "      <td>France</td>\n",
       "      <td>Women</td>\n",
       "    </tr>\n",
       "    <tr>\n",
       "      <th>4</th>\n",
       "      <td>Italy</td>\n",
       "      <td>3x3 Basketball</td>\n",
       "      <td>Italy</td>\n",
       "      <td>Women</td>\n",
       "    </tr>\n",
       "    <tr>\n",
       "      <th>...</th>\n",
       "      <td>...</td>\n",
       "      <td>...</td>\n",
       "      <td>...</td>\n",
       "      <td>...</td>\n",
       "    </tr>\n",
       "    <tr>\n",
       "      <th>738</th>\n",
       "      <td>South Africa</td>\n",
       "      <td>Water Polo</td>\n",
       "      <td>South Africa</td>\n",
       "      <td>Women</td>\n",
       "    </tr>\n",
       "    <tr>\n",
       "      <th>739</th>\n",
       "      <td>Spain</td>\n",
       "      <td>Water Polo</td>\n",
       "      <td>Spain</td>\n",
       "      <td>Men</td>\n",
       "    </tr>\n",
       "    <tr>\n",
       "      <th>740</th>\n",
       "      <td>Spain</td>\n",
       "      <td>Water Polo</td>\n",
       "      <td>Spain</td>\n",
       "      <td>Women</td>\n",
       "    </tr>\n",
       "    <tr>\n",
       "      <th>741</th>\n",
       "      <td>United States</td>\n",
       "      <td>Water Polo</td>\n",
       "      <td>United States of America</td>\n",
       "      <td>Men</td>\n",
       "    </tr>\n",
       "    <tr>\n",
       "      <th>742</th>\n",
       "      <td>United States</td>\n",
       "      <td>Water Polo</td>\n",
       "      <td>United States of America</td>\n",
       "      <td>Women</td>\n",
       "    </tr>\n",
       "  </tbody>\n",
       "</table>\n",
       "<p>743 rows × 4 columns</p>\n",
       "</div>"
      ],
      "text/plain": [
       "              Name      Discipline                         NOC  Event\n",
       "0          Belgium  3x3 Basketball                     Belgium    Men\n",
       "1            China  3x3 Basketball  People's Republic of China    Men\n",
       "2            China  3x3 Basketball  People's Republic of China  Women\n",
       "3           France  3x3 Basketball                      France  Women\n",
       "4            Italy  3x3 Basketball                       Italy  Women\n",
       "..             ...             ...                         ...    ...\n",
       "738   South Africa      Water Polo                South Africa  Women\n",
       "739          Spain      Water Polo                       Spain    Men\n",
       "740          Spain      Water Polo                       Spain  Women\n",
       "741  United States      Water Polo    United States of America    Men\n",
       "742  United States      Water Polo    United States of America  Women\n",
       "\n",
       "[743 rows x 4 columns]"
      ]
     },
     "execution_count": 4,
     "metadata": {},
     "output_type": "execute_result"
    }
   ],
   "source": [
    "teams"
   ]
  },
  {
   "cell_type": "code",
   "execution_count": 5,
   "id": "5f8523fd",
   "metadata": {
    "ExecuteTime": {
     "end_time": "2021-11-30T09:28:00.959123Z",
     "start_time": "2021-11-30T09:28:00.941171Z"
    }
   },
   "outputs": [
    {
     "data": {
      "text/plain": [
       "381"
      ]
     },
     "execution_count": 5,
     "metadata": {},
     "output_type": "execute_result"
    }
   ],
   "source": [
    "len(coaches['Name'].unique())"
   ]
  },
  {
   "cell_type": "code",
   "execution_count": 6,
   "id": "65b1dcc4",
   "metadata": {
    "ExecuteTime": {
     "end_time": "2021-11-30T09:28:00.974083Z",
     "start_time": "2021-11-30T09:28:00.962116Z"
    }
   },
   "outputs": [
    {
     "data": {
      "text/plain": [
       "11062"
      ]
     },
     "execution_count": 6,
     "metadata": {},
     "output_type": "execute_result"
    }
   ],
   "source": [
    "len(athletes['Name'].unique())"
   ]
  },
  {
   "cell_type": "code",
   "execution_count": 7,
   "id": "fd8ccd3b",
   "metadata": {
    "ExecuteTime": {
     "end_time": "2021-11-30T09:28:00.990550Z",
     "start_time": "2021-11-30T09:28:00.976593Z"
    }
   },
   "outputs": [
    {
     "name": "stdout",
     "output_type": "stream",
     "text": [
      "Gold: 340\n",
      "Silver: 338\n",
      "Bronze: 402\n",
      "Total: 1080\n"
     ]
    }
   ],
   "source": [
    "medals_list = ['Gold', 'Silver', 'Bronze', 'Total']\n",
    "for medal in medals_list:\n",
    "    print('{}: {}'.format(medal,  medals[medal].sum()))"
   ]
  },
  {
   "cell_type": "code",
   "execution_count": 8,
   "id": "342630a3",
   "metadata": {
    "ExecuteTime": {
     "end_time": "2021-11-30T09:28:01.038423Z",
     "start_time": "2021-11-30T09:28:00.998529Z"
    }
   },
   "outputs": [
    {
     "name": "stdout",
     "output_type": "stream",
     "text": [
      "Athletes dataset na values:\n",
      " Name          0\n",
      "NOC           0\n",
      "Discipline    0\n",
      "dtype: int64\n",
      "----------------\n",
      "Coaches dataset na values:\n",
      " Name            0\n",
      "NOC             0\n",
      "Discipline      0\n",
      "Event         145\n",
      "dtype: int64\n",
      "----------------\n",
      "Entriesgender dataset na values:\n",
      " Discipline    0\n",
      "Female        0\n",
      "Male          0\n",
      "Total         0\n",
      "dtype: int64\n",
      "----------------\n",
      "Medals dataset na values:\n",
      " Rank             0\n",
      "Team/NOC         0\n",
      "Gold             0\n",
      "Silver           0\n",
      "Bronze           0\n",
      "Total            0\n",
      "Rank by Total    0\n",
      "dtype: int64\n",
      "----------------\n",
      "Teams dataset na values:\n",
      " Name          0\n",
      "Discipline    0\n",
      "NOC           0\n",
      "Event         0\n",
      "dtype: int64\n"
     ]
    }
   ],
   "source": [
    "print('Athletes dataset na values:\\n', athletes.isna().sum())\n",
    "print('----------------')\n",
    "print('Coaches dataset na values:\\n',coaches.isna().sum())\n",
    "print('----------------')\n",
    "print('Entriesgender dataset na values:\\n',entriesgender.isna().sum())\n",
    "print('----------------')\n",
    "print('Medals dataset na values:\\n',medals.isna().sum())\n",
    "print('----------------')\n",
    "print('Teams dataset na values:\\n',teams.isna().sum())"
   ]
  },
  {
   "cell_type": "code",
   "execution_count": 9,
   "id": "02c93b29",
   "metadata": {
    "ExecuteTime": {
     "end_time": "2021-11-30T09:28:01.070337Z",
     "start_time": "2021-11-30T09:28:01.051390Z"
    }
   },
   "outputs": [
    {
     "data": {
      "text/html": [
       "<div>\n",
       "<style scoped>\n",
       "    .dataframe tbody tr th:only-of-type {\n",
       "        vertical-align: middle;\n",
       "    }\n",
       "\n",
       "    .dataframe tbody tr th {\n",
       "        vertical-align: top;\n",
       "    }\n",
       "\n",
       "    .dataframe thead th {\n",
       "        text-align: right;\n",
       "    }\n",
       "</style>\n",
       "<table border=\"1\" class=\"dataframe\">\n",
       "  <thead>\n",
       "    <tr style=\"text-align: right;\">\n",
       "      <th></th>\n",
       "      <th>Name</th>\n",
       "      <th>NOC</th>\n",
       "      <th>Discipline</th>\n",
       "    </tr>\n",
       "  </thead>\n",
       "  <tbody>\n",
       "    <tr>\n",
       "      <th>0</th>\n",
       "      <td>AALERUD Katrine</td>\n",
       "      <td>Norway</td>\n",
       "      <td>Cycling Road</td>\n",
       "    </tr>\n",
       "    <tr>\n",
       "      <th>1</th>\n",
       "      <td>ABAD Nestor</td>\n",
       "      <td>Spain</td>\n",
       "      <td>Artistic Gymnastics</td>\n",
       "    </tr>\n",
       "    <tr>\n",
       "      <th>2</th>\n",
       "      <td>ABAGNALE Giovanni</td>\n",
       "      <td>Italy</td>\n",
       "      <td>Rowing</td>\n",
       "    </tr>\n",
       "    <tr>\n",
       "      <th>3</th>\n",
       "      <td>ABALDE Alberto</td>\n",
       "      <td>Spain</td>\n",
       "      <td>Basketball</td>\n",
       "    </tr>\n",
       "    <tr>\n",
       "      <th>4</th>\n",
       "      <td>ABALDE Tamara</td>\n",
       "      <td>Spain</td>\n",
       "      <td>Basketball</td>\n",
       "    </tr>\n",
       "  </tbody>\n",
       "</table>\n",
       "</div>"
      ],
      "text/plain": [
       "                Name     NOC           Discipline\n",
       "0    AALERUD Katrine  Norway         Cycling Road\n",
       "1        ABAD Nestor   Spain  Artistic Gymnastics\n",
       "2  ABAGNALE Giovanni   Italy               Rowing\n",
       "3     ABALDE Alberto   Spain           Basketball\n",
       "4      ABALDE Tamara   Spain           Basketball"
      ]
     },
     "execution_count": 9,
     "metadata": {},
     "output_type": "execute_result"
    }
   ],
   "source": [
    "athletes.head(5)"
   ]
  },
  {
   "cell_type": "markdown",
   "id": "d68d1510",
   "metadata": {},
   "source": [
    "# Athletes dataset analysis"
   ]
  },
  {
   "cell_type": "code",
   "execution_count": 10,
   "id": "693098a0",
   "metadata": {
    "ExecuteTime": {
     "end_time": "2021-11-30T09:28:01.113986Z",
     "start_time": "2021-11-30T09:28:01.078316Z"
    }
   },
   "outputs": [
    {
     "data": {
      "text/html": [
       "<div>\n",
       "<style scoped>\n",
       "    .dataframe tbody tr th:only-of-type {\n",
       "        vertical-align: middle;\n",
       "    }\n",
       "\n",
       "    .dataframe tbody tr th {\n",
       "        vertical-align: top;\n",
       "    }\n",
       "\n",
       "    .dataframe thead th {\n",
       "        text-align: right;\n",
       "    }\n",
       "</style>\n",
       "<table border=\"1\" class=\"dataframe\">\n",
       "  <thead>\n",
       "    <tr style=\"text-align: right;\">\n",
       "      <th></th>\n",
       "      <th>Discipline</th>\n",
       "      <th>NOC</th>\n",
       "    </tr>\n",
       "  </thead>\n",
       "  <tbody>\n",
       "    <tr>\n",
       "      <th>0</th>\n",
       "      <td>Athletics</td>\n",
       "      <td>2068</td>\n",
       "    </tr>\n",
       "    <tr>\n",
       "      <th>1</th>\n",
       "      <td>Swimming</td>\n",
       "      <td>743</td>\n",
       "    </tr>\n",
       "    <tr>\n",
       "      <th>2</th>\n",
       "      <td>Football</td>\n",
       "      <td>567</td>\n",
       "    </tr>\n",
       "    <tr>\n",
       "      <th>3</th>\n",
       "      <td>Rowing</td>\n",
       "      <td>496</td>\n",
       "    </tr>\n",
       "    <tr>\n",
       "      <th>4</th>\n",
       "      <td>Hockey</td>\n",
       "      <td>406</td>\n",
       "    </tr>\n",
       "    <tr>\n",
       "      <th>5</th>\n",
       "      <td>Judo</td>\n",
       "      <td>373</td>\n",
       "    </tr>\n",
       "    <tr>\n",
       "      <th>6</th>\n",
       "      <td>Handball</td>\n",
       "      <td>343</td>\n",
       "    </tr>\n",
       "    <tr>\n",
       "      <th>7</th>\n",
       "      <td>Shooting</td>\n",
       "      <td>342</td>\n",
       "    </tr>\n",
       "    <tr>\n",
       "      <th>8</th>\n",
       "      <td>Sailing</td>\n",
       "      <td>336</td>\n",
       "    </tr>\n",
       "    <tr>\n",
       "      <th>9</th>\n",
       "      <td>Rugby Sevens</td>\n",
       "      <td>283</td>\n",
       "    </tr>\n",
       "  </tbody>\n",
       "</table>\n",
       "</div>"
      ],
      "text/plain": [
       "     Discipline   NOC\n",
       "0     Athletics  2068\n",
       "1      Swimming   743\n",
       "2      Football   567\n",
       "3        Rowing   496\n",
       "4        Hockey   406\n",
       "5          Judo   373\n",
       "6      Handball   343\n",
       "7      Shooting   342\n",
       "8       Sailing   336\n",
       "9  Rugby Sevens   283"
      ]
     },
     "execution_count": 10,
     "metadata": {},
     "output_type": "execute_result"
    }
   ],
   "source": [
    "df = athletes.groupby('Discipline')[['NOC']].count().sort_values('NOC', ascending=False).head(10).reset_index()\n",
    "df"
   ]
  },
  {
   "cell_type": "code",
   "execution_count": 11,
   "id": "b5facf83",
   "metadata": {
    "ExecuteTime": {
     "end_time": "2021-11-30T09:28:01.428140Z",
     "start_time": "2021-11-30T09:28:01.115976Z"
    }
   },
   "outputs": [
    {
     "data": {
      "image/png": "[encoded data removed]",
      "text/plain": [
       "<Figure size 864x576 with 1 Axes>"
      ]
     },
     "metadata": {},
     "output_type": "display_data"
    }
   ],
   "source": [
    "plt.figure(figsize=[12,8])\n",
    "sns.barplot(x='Discipline', y='NOC', data= df)\n",
    "plt.xticks(rotation=60, size=15)\n",
    "plt.xlabel('Sports', size=20)\n",
    "plt.yticks(color='w',size=15)\n",
    "plt.ylabel('Sum of athletes', size=20)\n",
    "plt.grid(axis='y')\n",
    "plt.title('Sum of athletes per sport top 10', size=15)\n",
    "plt.show()"
   ]
  },
  {
   "cell_type": "code",
   "execution_count": 12,
   "id": "0b8090f4",
   "metadata": {
    "ExecuteTime": {
     "end_time": "2021-11-30T09:28:01.458062Z",
     "start_time": "2021-11-30T09:28:01.430135Z"
    }
   },
   "outputs": [
    {
     "data": {
      "text/html": [
       "<div>\n",
       "<style scoped>\n",
       "    .dataframe tbody tr th:only-of-type {\n",
       "        vertical-align: middle;\n",
       "    }\n",
       "\n",
       "    .dataframe tbody tr th {\n",
       "        vertical-align: top;\n",
       "    }\n",
       "\n",
       "    .dataframe thead th {\n",
       "        text-align: right;\n",
       "    }\n",
       "</style>\n",
       "<table border=\"1\" class=\"dataframe\">\n",
       "  <thead>\n",
       "    <tr style=\"text-align: right;\">\n",
       "      <th></th>\n",
       "      <th>NOC</th>\n",
       "      <th>Discipline</th>\n",
       "    </tr>\n",
       "  </thead>\n",
       "  <tbody>\n",
       "    <tr>\n",
       "      <th>0</th>\n",
       "      <td>United States of America</td>\n",
       "      <td>615</td>\n",
       "    </tr>\n",
       "    <tr>\n",
       "      <th>1</th>\n",
       "      <td>Japan</td>\n",
       "      <td>586</td>\n",
       "    </tr>\n",
       "    <tr>\n",
       "      <th>2</th>\n",
       "      <td>Australia</td>\n",
       "      <td>470</td>\n",
       "    </tr>\n",
       "    <tr>\n",
       "      <th>3</th>\n",
       "      <td>People's Republic of China</td>\n",
       "      <td>401</td>\n",
       "    </tr>\n",
       "    <tr>\n",
       "      <th>4</th>\n",
       "      <td>Germany</td>\n",
       "      <td>400</td>\n",
       "    </tr>\n",
       "    <tr>\n",
       "      <th>5</th>\n",
       "      <td>France</td>\n",
       "      <td>377</td>\n",
       "    </tr>\n",
       "    <tr>\n",
       "      <th>6</th>\n",
       "      <td>Canada</td>\n",
       "      <td>368</td>\n",
       "    </tr>\n",
       "    <tr>\n",
       "      <th>7</th>\n",
       "      <td>Great Britain</td>\n",
       "      <td>366</td>\n",
       "    </tr>\n",
       "    <tr>\n",
       "      <th>8</th>\n",
       "      <td>Italy</td>\n",
       "      <td>356</td>\n",
       "    </tr>\n",
       "    <tr>\n",
       "      <th>9</th>\n",
       "      <td>Spain</td>\n",
       "      <td>324</td>\n",
       "    </tr>\n",
       "  </tbody>\n",
       "</table>\n",
       "</div>"
      ],
      "text/plain": [
       "                          NOC  Discipline\n",
       "0    United States of America         615\n",
       "1                       Japan         586\n",
       "2                   Australia         470\n",
       "3  People's Republic of China         401\n",
       "4                     Germany         400\n",
       "5                      France         377\n",
       "6                      Canada         368\n",
       "7               Great Britain         366\n",
       "8                       Italy         356\n",
       "9                       Spain         324"
      ]
     },
     "execution_count": 12,
     "metadata": {},
     "output_type": "execute_result"
    }
   ],
   "source": [
    "df1 = athletes.groupby('NOC')[['Discipline']].count().sort_values('Discipline', ascending=False).head(10).reset_index()\n",
    "df1"
   ]
  },
  {
   "cell_type": "code",
   "execution_count": 13,
   "id": "3c5c64ca",
   "metadata": {
    "ExecuteTime": {
     "end_time": "2021-11-30T09:28:01.696423Z",
     "start_time": "2021-11-30T09:28:01.464046Z"
    },
    "scrolled": true
   },
   "outputs": [
    {
     "data": {
      "image/png": "[encoded data removed]",
      "text/plain": [
       "<Figure size 864x576 with 1 Axes>"
      ]
     },
     "metadata": {
      "needs_background": "light"
     },
     "output_type": "display_data"
    }
   ],
   "source": [
    "plt.figure(figsize=[12,8])\n",
    "sns.barplot(y='NOC', x='Discipline', data= df1)\n",
    "plt.xticks(rotation=60, size=15)\n",
    "plt.xlabel('Sum of sports', size=20)\n",
    "plt.yticks(size=15)\n",
    "plt.ylabel('Countries', size=20)\n",
    "plt.grid(axis='x')\n",
    "plt.title('Sum of sports per country top 10', size=15)\n",
    "plt.show()"
   ]
  },
  {
   "cell_type": "markdown",
   "id": "703dcae4",
   "metadata": {},
   "source": [
    "# Coaches dataset analysis"
   ]
  },
  {
   "cell_type": "code",
   "execution_count": 14,
   "id": "9db7f425",
   "metadata": {
    "ExecuteTime": {
     "end_time": "2021-11-30T09:28:01.727340Z",
     "start_time": "2021-11-30T09:28:01.701409Z"
    }
   },
   "outputs": [
    {
     "data": {
      "text/html": [
       "<div>\n",
       "<style scoped>\n",
       "    .dataframe tbody tr th:only-of-type {\n",
       "        vertical-align: middle;\n",
       "    }\n",
       "\n",
       "    .dataframe tbody tr th {\n",
       "        vertical-align: top;\n",
       "    }\n",
       "\n",
       "    .dataframe thead th {\n",
       "        text-align: right;\n",
       "    }\n",
       "</style>\n",
       "<table border=\"1\" class=\"dataframe\">\n",
       "  <thead>\n",
       "    <tr style=\"text-align: right;\">\n",
       "      <th></th>\n",
       "      <th>Name</th>\n",
       "      <th>NOC</th>\n",
       "      <th>Discipline</th>\n",
       "      <th>Event</th>\n",
       "    </tr>\n",
       "  </thead>\n",
       "  <tbody>\n",
       "    <tr>\n",
       "      <th>0</th>\n",
       "      <td>ABDELMAGID Wael</td>\n",
       "      <td>Egypt</td>\n",
       "      <td>Football</td>\n",
       "      <td>NaN</td>\n",
       "    </tr>\n",
       "    <tr>\n",
       "      <th>1</th>\n",
       "      <td>ABE Junya</td>\n",
       "      <td>Japan</td>\n",
       "      <td>Volleyball</td>\n",
       "      <td>NaN</td>\n",
       "    </tr>\n",
       "    <tr>\n",
       "      <th>2</th>\n",
       "      <td>ABE Katsuhiko</td>\n",
       "      <td>Japan</td>\n",
       "      <td>Basketball</td>\n",
       "      <td>NaN</td>\n",
       "    </tr>\n",
       "    <tr>\n",
       "      <th>3</th>\n",
       "      <td>ADAMA Cherif</td>\n",
       "      <td>Côte d'Ivoire</td>\n",
       "      <td>Football</td>\n",
       "      <td>NaN</td>\n",
       "    </tr>\n",
       "    <tr>\n",
       "      <th>4</th>\n",
       "      <td>AGEBA Yuya</td>\n",
       "      <td>Japan</td>\n",
       "      <td>Volleyball</td>\n",
       "      <td>NaN</td>\n",
       "    </tr>\n",
       "  </tbody>\n",
       "</table>\n",
       "</div>"
      ],
      "text/plain": [
       "              Name            NOC  Discipline Event\n",
       "0  ABDELMAGID Wael          Egypt    Football   NaN\n",
       "1        ABE Junya          Japan  Volleyball   NaN\n",
       "2    ABE Katsuhiko          Japan  Basketball   NaN\n",
       "3     ADAMA Cherif  Côte d'Ivoire    Football   NaN\n",
       "4       AGEBA Yuya          Japan  Volleyball   NaN"
      ]
     },
     "execution_count": 14,
     "metadata": {},
     "output_type": "execute_result"
    }
   ],
   "source": [
    "coaches.head(5)"
   ]
  },
  {
   "cell_type": "code",
   "execution_count": 15,
   "id": "6076fef1",
   "metadata": {
    "ExecuteTime": {
     "end_time": "2021-11-30T09:28:01.744295Z",
     "start_time": "2021-11-30T09:28:01.732327Z"
    }
   },
   "outputs": [
    {
     "data": {
      "text/plain": [
       "(394, 4)"
      ]
     },
     "execution_count": 15,
     "metadata": {},
     "output_type": "execute_result"
    }
   ],
   "source": [
    "coaches.shape"
   ]
  },
  {
   "cell_type": "code",
   "execution_count": 40,
   "id": "13d39e1d",
   "metadata": {
    "ExecuteTime": {
     "end_time": "2021-11-30T09:28:40.700325Z",
     "start_time": "2021-11-30T09:28:40.684340Z"
    }
   },
   "outputs": [
    {
     "data": {
      "text/html": [
       "<div>\n",
       "<style scoped>\n",
       "    .dataframe tbody tr th:only-of-type {\n",
       "        vertical-align: middle;\n",
       "    }\n",
       "\n",
       "    .dataframe tbody tr th {\n",
       "        vertical-align: top;\n",
       "    }\n",
       "\n",
       "    .dataframe thead th {\n",
       "        text-align: right;\n",
       "    }\n",
       "</style>\n",
       "<table border=\"1\" class=\"dataframe\">\n",
       "  <thead>\n",
       "    <tr style=\"text-align: right;\">\n",
       "      <th></th>\n",
       "      <th>Discipline</th>\n",
       "      <th>NOC</th>\n",
       "    </tr>\n",
       "  </thead>\n",
       "  <tbody>\n",
       "    <tr>\n",
       "      <th>0</th>\n",
       "      <td>Basketball</td>\n",
       "      <td>74</td>\n",
       "    </tr>\n",
       "    <tr>\n",
       "      <th>1</th>\n",
       "      <td>Artistic Swimming</td>\n",
       "      <td>69</td>\n",
       "    </tr>\n",
       "    <tr>\n",
       "      <th>2</th>\n",
       "      <td>Football</td>\n",
       "      <td>59</td>\n",
       "    </tr>\n",
       "    <tr>\n",
       "      <th>3</th>\n",
       "      <td>Hockey</td>\n",
       "      <td>45</td>\n",
       "    </tr>\n",
       "    <tr>\n",
       "      <th>4</th>\n",
       "      <td>Volleyball</td>\n",
       "      <td>45</td>\n",
       "    </tr>\n",
       "    <tr>\n",
       "      <th>5</th>\n",
       "      <td>Handball</td>\n",
       "      <td>29</td>\n",
       "    </tr>\n",
       "    <tr>\n",
       "      <th>6</th>\n",
       "      <td>Baseball/Softball</td>\n",
       "      <td>26</td>\n",
       "    </tr>\n",
       "    <tr>\n",
       "      <th>7</th>\n",
       "      <td>Rugby Sevens</td>\n",
       "      <td>25</td>\n",
       "    </tr>\n",
       "    <tr>\n",
       "      <th>8</th>\n",
       "      <td>Water Polo</td>\n",
       "      <td>22</td>\n",
       "    </tr>\n",
       "  </tbody>\n",
       "</table>\n",
       "</div>"
      ],
      "text/plain": [
       "          Discipline  NOC\n",
       "0         Basketball   74\n",
       "1  Artistic Swimming   69\n",
       "2           Football   59\n",
       "3             Hockey   45\n",
       "4         Volleyball   45\n",
       "5           Handball   29\n",
       "6  Baseball/Softball   26\n",
       "7       Rugby Sevens   25\n",
       "8         Water Polo   22"
      ]
     },
     "execution_count": 40,
     "metadata": {},
     "output_type": "execute_result"
    }
   ],
   "source": [
    "df = coaches.groupby('Discipline')[['NOC']].count().sort_values('NOC', ascending=False).head(10).reset_index()\n",
    "df"
   ]
  },
  {
   "cell_type": "code",
   "execution_count": 41,
   "id": "72698c77",
   "metadata": {
    "ExecuteTime": {
     "end_time": "2021-11-30T09:28:41.425132Z",
     "start_time": "2021-11-30T09:28:41.206206Z"
    }
   },
   "outputs": [
    {
     "data": {
      "image/png": "[encoded data removed]",
      "text/plain": [
       "<Figure size 864x576 with 1 Axes>"
      ]
     },
     "metadata": {
      "needs_background": "light"
     },
     "output_type": "display_data"
    }
   ],
   "source": [
    "plt.figure(figsize=[12,8])\n",
    "sns.barplot(x='Discipline', y='NOC', data= df)\n",
    "plt.xticks(rotation=60, size=15)\n",
    "plt.xlabel('Sports', size=20)\n",
    "plt.yticks(size=15)\n",
    "plt.ylabel('Sum of coaches', size=20)\n",
    "plt.grid(axis='y')\n",
    "plt.title('Sum of coaches per sport top 10', size=15)\n",
    "plt.show()"
   ]
  },
  {
   "cell_type": "code",
   "execution_count": 18,
   "id": "2a6f8708",
   "metadata": {
    "ExecuteTime": {
     "end_time": "2021-11-30T09:28:02.046488Z",
     "start_time": "2021-11-30T09:28:02.020556Z"
    }
   },
   "outputs": [
    {
     "data": {
      "text/html": [
       "<div>\n",
       "<style scoped>\n",
       "    .dataframe tbody tr th:only-of-type {\n",
       "        vertical-align: middle;\n",
       "    }\n",
       "\n",
       "    .dataframe tbody tr th {\n",
       "        vertical-align: top;\n",
       "    }\n",
       "\n",
       "    .dataframe thead th {\n",
       "        text-align: right;\n",
       "    }\n",
       "</style>\n",
       "<table border=\"1\" class=\"dataframe\">\n",
       "  <thead>\n",
       "    <tr style=\"text-align: right;\">\n",
       "      <th></th>\n",
       "      <th>NOC</th>\n",
       "      <th>Discipline</th>\n",
       "    </tr>\n",
       "  </thead>\n",
       "  <tbody>\n",
       "    <tr>\n",
       "      <th>0</th>\n",
       "      <td>Japan</td>\n",
       "      <td>35</td>\n",
       "    </tr>\n",
       "    <tr>\n",
       "      <th>1</th>\n",
       "      <td>United States of America</td>\n",
       "      <td>28</td>\n",
       "    </tr>\n",
       "    <tr>\n",
       "      <th>2</th>\n",
       "      <td>Spain</td>\n",
       "      <td>28</td>\n",
       "    </tr>\n",
       "    <tr>\n",
       "      <th>3</th>\n",
       "      <td>Australia</td>\n",
       "      <td>22</td>\n",
       "    </tr>\n",
       "    <tr>\n",
       "      <th>4</th>\n",
       "      <td>Canada</td>\n",
       "      <td>16</td>\n",
       "    </tr>\n",
       "    <tr>\n",
       "      <th>5</th>\n",
       "      <td>Italy</td>\n",
       "      <td>14</td>\n",
       "    </tr>\n",
       "    <tr>\n",
       "      <th>6</th>\n",
       "      <td>ROC</td>\n",
       "      <td>12</td>\n",
       "    </tr>\n",
       "    <tr>\n",
       "      <th>7</th>\n",
       "      <td>Egypt</td>\n",
       "      <td>12</td>\n",
       "    </tr>\n",
       "    <tr>\n",
       "      <th>8</th>\n",
       "      <td>South Africa</td>\n",
       "      <td>12</td>\n",
       "    </tr>\n",
       "    <tr>\n",
       "      <th>9</th>\n",
       "      <td>People's Republic of China</td>\n",
       "      <td>12</td>\n",
       "    </tr>\n",
       "  </tbody>\n",
       "</table>\n",
       "</div>"
      ],
      "text/plain": [
       "                          NOC  Discipline\n",
       "0                       Japan          35\n",
       "1    United States of America          28\n",
       "2                       Spain          28\n",
       "3                   Australia          22\n",
       "4                      Canada          16\n",
       "5                       Italy          14\n",
       "6                         ROC          12\n",
       "7                       Egypt          12\n",
       "8                South Africa          12\n",
       "9  People's Republic of China          12"
      ]
     },
     "execution_count": 18,
     "metadata": {},
     "output_type": "execute_result"
    }
   ],
   "source": [
    "df1 = coaches.groupby('NOC')[['Discipline']].count().sort_values('Discipline', ascending=False).head(10).reset_index()\n",
    "df1"
   ]
  },
  {
   "cell_type": "code",
   "execution_count": 19,
   "id": "e20c8689",
   "metadata": {
    "ExecuteTime": {
     "end_time": "2021-11-30T09:28:02.379603Z",
     "start_time": "2021-11-30T09:28:02.050475Z"
    }
   },
   "outputs": [
    {
     "data": {
      "image/png": "[encoded data removed]",
      "text/plain": [
       "<Figure size 864x576 with 1 Axes>"
      ]
     },
     "metadata": {
      "needs_background": "light"
     },
     "output_type": "display_data"
    }
   ],
   "source": [
    "plt.figure(figsize=[12,8])\n",
    "sns.barplot(y='NOC', x='Discipline', data= df1)\n",
    "plt.xticks(rotation=60, size=15)\n",
    "plt.xlabel('Sum of sports', size=20)\n",
    "plt.yticks(size=15)\n",
    "plt.ylabel('Countries', size=20)\n",
    "plt.grid(axis='x')\n",
    "plt.title('Sum of sports in coaches per country top 10', size=15)\n",
    "plt.show()"
   ]
  },
  {
   "cell_type": "markdown",
   "id": "8912e40e",
   "metadata": {
    "ExecuteTime": {
     "end_time": "2021-10-02T09:46:09.744716Z",
     "start_time": "2021-10-02T09:46:09.740727Z"
    }
   },
   "source": [
    "# Genders dataset analysis"
   ]
  },
  {
   "cell_type": "code",
   "execution_count": 20,
   "id": "750aa1bd",
   "metadata": {
    "ExecuteTime": {
     "end_time": "2021-11-30T09:28:02.411516Z",
     "start_time": "2021-11-30T09:28:02.386582Z"
    }
   },
   "outputs": [
    {
     "data": {
      "text/html": [
       "<div>\n",
       "<style scoped>\n",
       "    .dataframe tbody tr th:only-of-type {\n",
       "        vertical-align: middle;\n",
       "    }\n",
       "\n",
       "    .dataframe tbody tr th {\n",
       "        vertical-align: top;\n",
       "    }\n",
       "\n",
       "    .dataframe thead th {\n",
       "        text-align: right;\n",
       "    }\n",
       "</style>\n",
       "<table border=\"1\" class=\"dataframe\">\n",
       "  <thead>\n",
       "    <tr style=\"text-align: right;\">\n",
       "      <th></th>\n",
       "      <th>Discipline</th>\n",
       "      <th>Female</th>\n",
       "      <th>Male</th>\n",
       "      <th>Total</th>\n",
       "    </tr>\n",
       "  </thead>\n",
       "  <tbody>\n",
       "    <tr>\n",
       "      <th>0</th>\n",
       "      <td>3x3 Basketball</td>\n",
       "      <td>32</td>\n",
       "      <td>32</td>\n",
       "      <td>64</td>\n",
       "    </tr>\n",
       "    <tr>\n",
       "      <th>1</th>\n",
       "      <td>Archery</td>\n",
       "      <td>64</td>\n",
       "      <td>64</td>\n",
       "      <td>128</td>\n",
       "    </tr>\n",
       "    <tr>\n",
       "      <th>2</th>\n",
       "      <td>Artistic Gymnastics</td>\n",
       "      <td>98</td>\n",
       "      <td>98</td>\n",
       "      <td>196</td>\n",
       "    </tr>\n",
       "    <tr>\n",
       "      <th>3</th>\n",
       "      <td>Artistic Swimming</td>\n",
       "      <td>105</td>\n",
       "      <td>0</td>\n",
       "      <td>105</td>\n",
       "    </tr>\n",
       "    <tr>\n",
       "      <th>4</th>\n",
       "      <td>Athletics</td>\n",
       "      <td>969</td>\n",
       "      <td>1072</td>\n",
       "      <td>2041</td>\n",
       "    </tr>\n",
       "  </tbody>\n",
       "</table>\n",
       "</div>"
      ],
      "text/plain": [
       "            Discipline  Female  Male  Total\n",
       "0       3x3 Basketball      32    32     64\n",
       "1              Archery      64    64    128\n",
       "2  Artistic Gymnastics      98    98    196\n",
       "3    Artistic Swimming     105     0    105\n",
       "4            Athletics     969  1072   2041"
      ]
     },
     "execution_count": 20,
     "metadata": {},
     "output_type": "execute_result"
    }
   ],
   "source": [
    "entriesgender.head(5)"
   ]
  },
  {
   "cell_type": "code",
   "execution_count": 45,
   "id": "44fa24d3",
   "metadata": {
    "ExecuteTime": {
     "end_time": "2021-11-30T09:29:33.602359Z",
     "start_time": "2021-11-30T09:29:33.473376Z"
    }
   },
   "outputs": [
    {
     "data": {
      "image/png": "[encoded data removed]",
      "text/plain": [
       "<Figure size 720x576 with 1 Axes>"
      ]
     },
     "metadata": {},
     "output_type": "display_data"
    }
   ],
   "source": [
    "plt.figure(figsize=[10,8])\n",
    "gender = entriesgender.drop(['Discipline', 'Total'], axis=1).sum()\n",
    "patches, texts, autotexts = plt.pie(x=gender,\n",
    "                                    explode = (0, 0.05),\n",
    "                                    labels=['Male', 'Female'],\n",
    "                                    center=(10,0),\n",
    "                                    autopct='%.0f%%',\n",
    "                                    startangle=45)\n",
    "for text in texts:\n",
    "    text.set_color('black')\n",
    "    text.set_size(15)\n",
    "plt.title('Percentages of Males and Females', size=18, x=1.2, y=0.8)\n",
    "plt.legend(loc='lower right')\n",
    "plt.show()"
   ]
  },
  {
   "cell_type": "code",
   "execution_count": 46,
   "id": "764fa274",
   "metadata": {
    "ExecuteTime": {
     "end_time": "2021-11-30T09:30:08.458238Z",
     "start_time": "2021-11-30T09:30:08.433306Z"
    },
    "scrolled": true
   },
   "outputs": [
    {
     "data": {
      "text/html": [
       "<div>\n",
       "<style scoped>\n",
       "    .dataframe tbody tr th:only-of-type {\n",
       "        vertical-align: middle;\n",
       "    }\n",
       "\n",
       "    .dataframe tbody tr th {\n",
       "        vertical-align: top;\n",
       "    }\n",
       "\n",
       "    .dataframe thead th {\n",
       "        text-align: right;\n",
       "    }\n",
       "</style>\n",
       "<table border=\"1\" class=\"dataframe\">\n",
       "  <thead>\n",
       "    <tr style=\"text-align: right;\">\n",
       "      <th></th>\n",
       "      <th>Discipline</th>\n",
       "      <th>Male</th>\n",
       "    </tr>\n",
       "  </thead>\n",
       "  <tbody>\n",
       "    <tr>\n",
       "      <th>0</th>\n",
       "      <td>Athletics</td>\n",
       "      <td>1072</td>\n",
       "    </tr>\n",
       "    <tr>\n",
       "      <th>1</th>\n",
       "      <td>Swimming</td>\n",
       "      <td>418</td>\n",
       "    </tr>\n",
       "    <tr>\n",
       "      <th>2</th>\n",
       "      <td>Football</td>\n",
       "      <td>344</td>\n",
       "    </tr>\n",
       "    <tr>\n",
       "      <th>3</th>\n",
       "      <td>Rowing</td>\n",
       "      <td>265</td>\n",
       "    </tr>\n",
       "    <tr>\n",
       "      <th>4</th>\n",
       "      <td>Judo</td>\n",
       "      <td>201</td>\n",
       "    </tr>\n",
       "    <tr>\n",
       "      <th>5</th>\n",
       "      <td>Wrestling</td>\n",
       "      <td>193</td>\n",
       "    </tr>\n",
       "    <tr>\n",
       "      <th>6</th>\n",
       "      <td>Hockey</td>\n",
       "      <td>192</td>\n",
       "    </tr>\n",
       "    <tr>\n",
       "      <th>7</th>\n",
       "      <td>Boxing</td>\n",
       "      <td>187</td>\n",
       "    </tr>\n",
       "    <tr>\n",
       "      <th>8</th>\n",
       "      <td>Shooting</td>\n",
       "      <td>178</td>\n",
       "    </tr>\n",
       "    <tr>\n",
       "      <th>9</th>\n",
       "      <td>Sailing</td>\n",
       "      <td>175</td>\n",
       "    </tr>\n",
       "  </tbody>\n",
       "</table>\n",
       "</div>"
      ],
      "text/plain": [
       "  Discipline  Male\n",
       "0  Athletics  1072\n",
       "1   Swimming   418\n",
       "2   Football   344\n",
       "3     Rowing   265\n",
       "4       Judo   201\n",
       "5  Wrestling   193\n",
       "6     Hockey   192\n",
       "7     Boxing   187\n",
       "8   Shooting   178\n",
       "9    Sailing   175"
      ]
     },
     "execution_count": 46,
     "metadata": {},
     "output_type": "execute_result"
    }
   ],
   "source": [
    "df = entriesgender.groupby('Discipline')[['Male']].sum().sort_values(['Male'], ascending=False).head(10).reset_index()\n",
    "df"
   ]
  },
  {
   "cell_type": "code",
   "execution_count": 52,
   "id": "2d0f092f",
   "metadata": {
    "ExecuteTime": {
     "end_time": "2021-11-30T09:31:05.045742Z",
     "start_time": "2021-11-30T09:31:04.815359Z"
    },
    "scrolled": false
   },
   "outputs": [
    {
     "data": {
      "image/png": "[encoded data removed]",
      "text/plain": [
       "<Figure size 864x576 with 1 Axes>"
      ]
     },
     "metadata": {
      "needs_background": "light"
     },
     "output_type": "display_data"
    }
   ],
   "source": [
    "plt.figure(figsize=[12,8])\n",
    "sns.barplot(x='Discipline', y='Male', data= df)\n",
    "plt.xticks(rotation=60, size=15)\n",
    "plt.xlabel('Sports', size=20)\n",
    "plt.yticks( size=15)\n",
    "plt.ylabel('Sum of males', size=20)\n",
    "plt.grid(axis='y')\n",
    "plt.title('Sum of males in athletes per sport top 10', size=15)\n",
    "plt.show()"
   ]
  },
  {
   "cell_type": "code",
   "execution_count": 53,
   "id": "b9ebcf80",
   "metadata": {
    "ExecuteTime": {
     "end_time": "2021-11-30T09:31:06.351084Z",
     "start_time": "2021-11-30T09:31:06.333130Z"
    },
    "scrolled": true
   },
   "outputs": [
    {
     "data": {
      "text/html": [
       "<div>\n",
       "<style scoped>\n",
       "    .dataframe tbody tr th:only-of-type {\n",
       "        vertical-align: middle;\n",
       "    }\n",
       "\n",
       "    .dataframe tbody tr th {\n",
       "        vertical-align: top;\n",
       "    }\n",
       "\n",
       "    .dataframe thead th {\n",
       "        text-align: right;\n",
       "    }\n",
       "</style>\n",
       "<table border=\"1\" class=\"dataframe\">\n",
       "  <thead>\n",
       "    <tr style=\"text-align: right;\">\n",
       "      <th></th>\n",
       "      <th>Discipline</th>\n",
       "      <th>Female</th>\n",
       "    </tr>\n",
       "  </thead>\n",
       "  <tbody>\n",
       "    <tr>\n",
       "      <th>0</th>\n",
       "      <td>Athletics</td>\n",
       "      <td>969</td>\n",
       "    </tr>\n",
       "    <tr>\n",
       "      <th>1</th>\n",
       "      <td>Swimming</td>\n",
       "      <td>361</td>\n",
       "    </tr>\n",
       "    <tr>\n",
       "      <th>2</th>\n",
       "      <td>Football</td>\n",
       "      <td>264</td>\n",
       "    </tr>\n",
       "    <tr>\n",
       "      <th>3</th>\n",
       "      <td>Rowing</td>\n",
       "      <td>257</td>\n",
       "    </tr>\n",
       "    <tr>\n",
       "      <th>4</th>\n",
       "      <td>Judo</td>\n",
       "      <td>192</td>\n",
       "    </tr>\n",
       "    <tr>\n",
       "      <th>5</th>\n",
       "      <td>Hockey</td>\n",
       "      <td>192</td>\n",
       "    </tr>\n",
       "    <tr>\n",
       "      <th>6</th>\n",
       "      <td>Shooting</td>\n",
       "      <td>178</td>\n",
       "    </tr>\n",
       "    <tr>\n",
       "      <th>7</th>\n",
       "      <td>Sailing</td>\n",
       "      <td>175</td>\n",
       "    </tr>\n",
       "    <tr>\n",
       "      <th>8</th>\n",
       "      <td>Handball</td>\n",
       "      <td>168</td>\n",
       "    </tr>\n",
       "    <tr>\n",
       "      <th>9</th>\n",
       "      <td>Rugby Sevens</td>\n",
       "      <td>146</td>\n",
       "    </tr>\n",
       "  </tbody>\n",
       "</table>\n",
       "</div>"
      ],
      "text/plain": [
       "     Discipline  Female\n",
       "0     Athletics     969\n",
       "1      Swimming     361\n",
       "2      Football     264\n",
       "3        Rowing     257\n",
       "4          Judo     192\n",
       "5        Hockey     192\n",
       "6      Shooting     178\n",
       "7       Sailing     175\n",
       "8      Handball     168\n",
       "9  Rugby Sevens     146"
      ]
     },
     "execution_count": 53,
     "metadata": {},
     "output_type": "execute_result"
    }
   ],
   "source": [
    "df1 = entriesgender.groupby('Discipline')[['Female']].sum().sort_values(['Female'], ascending=False).head(10).reset_index()\n",
    "df1"
   ]
  },
  {
   "cell_type": "code",
   "execution_count": 54,
   "id": "f8913954",
   "metadata": {
    "ExecuteTime": {
     "end_time": "2021-11-30T09:31:07.104597Z",
     "start_time": "2021-11-30T09:31:06.895134Z"
    },
    "scrolled": true
   },
   "outputs": [
    {
     "data": {
      "image/png": "[encoded data removed]",
      "text/plain": [
       "<Figure size 864x576 with 1 Axes>"
      ]
     },
     "metadata": {
      "needs_background": "light"
     },
     "output_type": "display_data"
    }
   ],
   "source": [
    "plt.figure(figsize=[12,8])\n",
    "sns.barplot(x='Discipline', y='Female', data= df1)\n",
    "plt.xticks(rotation=60, size=15)\n",
    "plt.xlabel('Sports',size=20)\n",
    "plt.yticks(size=15)\n",
    "plt.ylabel('Sum of Females', size=20)\n",
    "plt.grid(axis='y')\n",
    "plt.title('Sum of females in athletes per sport top 10', size=15)\n",
    "plt.show()"
   ]
  },
  {
   "cell_type": "code",
   "execution_count": 26,
   "id": "6752f598",
   "metadata": {
    "ExecuteTime": {
     "end_time": "2021-11-30T09:28:03.142635Z",
     "start_time": "2021-11-30T09:28:03.113712Z"
    }
   },
   "outputs": [
    {
     "data": {
      "text/html": [
       "<div>\n",
       "<style scoped>\n",
       "    .dataframe tbody tr th:only-of-type {\n",
       "        vertical-align: middle;\n",
       "    }\n",
       "\n",
       "    .dataframe tbody tr th {\n",
       "        vertical-align: top;\n",
       "    }\n",
       "\n",
       "    .dataframe thead th {\n",
       "        text-align: right;\n",
       "    }\n",
       "</style>\n",
       "<table border=\"1\" class=\"dataframe\">\n",
       "  <thead>\n",
       "    <tr style=\"text-align: right;\">\n",
       "      <th></th>\n",
       "      <th>Discipline</th>\n",
       "      <th>Male</th>\n",
       "      <th>Female</th>\n",
       "    </tr>\n",
       "  </thead>\n",
       "  <tbody>\n",
       "    <tr>\n",
       "      <th>0</th>\n",
       "      <td>Athletics</td>\n",
       "      <td>1072.0</td>\n",
       "      <td>969.0</td>\n",
       "    </tr>\n",
       "    <tr>\n",
       "      <th>1</th>\n",
       "      <td>Swimming</td>\n",
       "      <td>418.0</td>\n",
       "      <td>361.0</td>\n",
       "    </tr>\n",
       "    <tr>\n",
       "      <th>2</th>\n",
       "      <td>Football</td>\n",
       "      <td>344.0</td>\n",
       "      <td>264.0</td>\n",
       "    </tr>\n",
       "    <tr>\n",
       "      <th>3</th>\n",
       "      <td>Rowing</td>\n",
       "      <td>265.0</td>\n",
       "      <td>257.0</td>\n",
       "    </tr>\n",
       "    <tr>\n",
       "      <th>4</th>\n",
       "      <td>Judo</td>\n",
       "      <td>201.0</td>\n",
       "      <td>192.0</td>\n",
       "    </tr>\n",
       "    <tr>\n",
       "      <th>5</th>\n",
       "      <td>Wrestling</td>\n",
       "      <td>193.0</td>\n",
       "      <td>NaN</td>\n",
       "    </tr>\n",
       "    <tr>\n",
       "      <th>6</th>\n",
       "      <td>Hockey</td>\n",
       "      <td>192.0</td>\n",
       "      <td>192.0</td>\n",
       "    </tr>\n",
       "    <tr>\n",
       "      <th>7</th>\n",
       "      <td>Boxing</td>\n",
       "      <td>187.0</td>\n",
       "      <td>NaN</td>\n",
       "    </tr>\n",
       "    <tr>\n",
       "      <th>8</th>\n",
       "      <td>Shooting</td>\n",
       "      <td>178.0</td>\n",
       "      <td>178.0</td>\n",
       "    </tr>\n",
       "    <tr>\n",
       "      <th>9</th>\n",
       "      <td>Sailing</td>\n",
       "      <td>175.0</td>\n",
       "      <td>175.0</td>\n",
       "    </tr>\n",
       "    <tr>\n",
       "      <th>10</th>\n",
       "      <td>Handball</td>\n",
       "      <td>NaN</td>\n",
       "      <td>168.0</td>\n",
       "    </tr>\n",
       "    <tr>\n",
       "      <th>11</th>\n",
       "      <td>Rugby Sevens</td>\n",
       "      <td>NaN</td>\n",
       "      <td>146.0</td>\n",
       "    </tr>\n",
       "  </tbody>\n",
       "</table>\n",
       "</div>"
      ],
      "text/plain": [
       "      Discipline    Male  Female\n",
       "0      Athletics  1072.0   969.0\n",
       "1       Swimming   418.0   361.0\n",
       "2       Football   344.0   264.0\n",
       "3         Rowing   265.0   257.0\n",
       "4           Judo   201.0   192.0\n",
       "5      Wrestling   193.0     NaN\n",
       "6         Hockey   192.0   192.0\n",
       "7         Boxing   187.0     NaN\n",
       "8       Shooting   178.0   178.0\n",
       "9        Sailing   175.0   175.0\n",
       "10      Handball     NaN   168.0\n",
       "11  Rugby Sevens     NaN   146.0"
      ]
     },
     "execution_count": 26,
     "metadata": {},
     "output_type": "execute_result"
    }
   ],
   "source": [
    "df_conc = df.merge(df1, how='outer', on='Discipline')\n",
    "# df_conc['col'] = (len(df)*(0,) + len(df1)*(1,))\n",
    "# df_conc.reset_index(inplace=True)\n",
    "df_conc"
   ]
  },
  {
   "cell_type": "code",
   "execution_count": 27,
   "id": "2fa30692",
   "metadata": {
    "ExecuteTime": {
     "end_time": "2021-11-30T09:28:03.460797Z",
     "start_time": "2021-11-30T09:28:03.151612Z"
    }
   },
   "outputs": [
    {
     "data": {
      "image/png": "[encoded data removed]",
      "text/plain": [
       "<Figure size 1296x576 with 1 Axes>"
      ]
     },
     "metadata": {
      "needs_background": "light"
     },
     "output_type": "display_data"
    }
   ],
   "source": [
    "df_conc.plot(x=\"Discipline\",\n",
    "             y=[\"Male\", \"Female\"],\n",
    "             kind=\"bar\",\n",
    "             figsize=[18,8],)\n",
    "plt.title('Grouped Barplot', size=20)\n",
    "plt.xticks(rotation=70, size=15)\n",
    "plt.xlabel('Discipline',size=20)\n",
    "plt.yticks( size=15)\n",
    "plt.grid(axis='y')\n",
    "plt.ylabel('Sum of sports per Gender', size=20)\n",
    "plt.legend(fontsize='x-large')\n",
    "plt.show()"
   ]
  },
  {
   "cell_type": "markdown",
   "id": "3c06583b",
   "metadata": {},
   "source": [
    "## Medals dataset analysis"
   ]
  },
  {
   "cell_type": "code",
   "execution_count": 28,
   "id": "4f4fdb4e",
   "metadata": {
    "ExecuteTime": {
     "end_time": "2021-11-30T09:28:03.491713Z",
     "start_time": "2021-11-30T09:28:03.475756Z"
    },
    "scrolled": true
   },
   "outputs": [
    {
     "data": {
      "text/html": [
       "<div>\n",
       "<style scoped>\n",
       "    .dataframe tbody tr th:only-of-type {\n",
       "        vertical-align: middle;\n",
       "    }\n",
       "\n",
       "    .dataframe tbody tr th {\n",
       "        vertical-align: top;\n",
       "    }\n",
       "\n",
       "    .dataframe thead th {\n",
       "        text-align: right;\n",
       "    }\n",
       "</style>\n",
       "<table border=\"1\" class=\"dataframe\">\n",
       "  <thead>\n",
       "    <tr style=\"text-align: right;\">\n",
       "      <th></th>\n",
       "      <th>Rank</th>\n",
       "      <th>Team/NOC</th>\n",
       "      <th>Gold</th>\n",
       "      <th>Silver</th>\n",
       "      <th>Bronze</th>\n",
       "      <th>Total</th>\n",
       "      <th>Rank by Total</th>\n",
       "    </tr>\n",
       "  </thead>\n",
       "  <tbody>\n",
       "    <tr>\n",
       "      <th>0</th>\n",
       "      <td>1</td>\n",
       "      <td>United States of America</td>\n",
       "      <td>39</td>\n",
       "      <td>41</td>\n",
       "      <td>33</td>\n",
       "      <td>113</td>\n",
       "      <td>1</td>\n",
       "    </tr>\n",
       "    <tr>\n",
       "      <th>1</th>\n",
       "      <td>2</td>\n",
       "      <td>People's Republic of China</td>\n",
       "      <td>38</td>\n",
       "      <td>32</td>\n",
       "      <td>18</td>\n",
       "      <td>88</td>\n",
       "      <td>2</td>\n",
       "    </tr>\n",
       "    <tr>\n",
       "      <th>2</th>\n",
       "      <td>3</td>\n",
       "      <td>Japan</td>\n",
       "      <td>27</td>\n",
       "      <td>14</td>\n",
       "      <td>17</td>\n",
       "      <td>58</td>\n",
       "      <td>5</td>\n",
       "    </tr>\n",
       "    <tr>\n",
       "      <th>3</th>\n",
       "      <td>4</td>\n",
       "      <td>Great Britain</td>\n",
       "      <td>22</td>\n",
       "      <td>21</td>\n",
       "      <td>22</td>\n",
       "      <td>65</td>\n",
       "      <td>4</td>\n",
       "    </tr>\n",
       "    <tr>\n",
       "      <th>4</th>\n",
       "      <td>5</td>\n",
       "      <td>ROC</td>\n",
       "      <td>20</td>\n",
       "      <td>28</td>\n",
       "      <td>23</td>\n",
       "      <td>71</td>\n",
       "      <td>3</td>\n",
       "    </tr>\n",
       "    <tr>\n",
       "      <th>5</th>\n",
       "      <td>6</td>\n",
       "      <td>Australia</td>\n",
       "      <td>17</td>\n",
       "      <td>7</td>\n",
       "      <td>22</td>\n",
       "      <td>46</td>\n",
       "      <td>6</td>\n",
       "    </tr>\n",
       "    <tr>\n",
       "      <th>6</th>\n",
       "      <td>7</td>\n",
       "      <td>Netherlands</td>\n",
       "      <td>10</td>\n",
       "      <td>12</td>\n",
       "      <td>14</td>\n",
       "      <td>36</td>\n",
       "      <td>9</td>\n",
       "    </tr>\n",
       "    <tr>\n",
       "      <th>7</th>\n",
       "      <td>8</td>\n",
       "      <td>France</td>\n",
       "      <td>10</td>\n",
       "      <td>12</td>\n",
       "      <td>11</td>\n",
       "      <td>33</td>\n",
       "      <td>10</td>\n",
       "    </tr>\n",
       "    <tr>\n",
       "      <th>8</th>\n",
       "      <td>9</td>\n",
       "      <td>Germany</td>\n",
       "      <td>10</td>\n",
       "      <td>11</td>\n",
       "      <td>16</td>\n",
       "      <td>37</td>\n",
       "      <td>8</td>\n",
       "    </tr>\n",
       "    <tr>\n",
       "      <th>9</th>\n",
       "      <td>10</td>\n",
       "      <td>Italy</td>\n",
       "      <td>10</td>\n",
       "      <td>10</td>\n",
       "      <td>20</td>\n",
       "      <td>40</td>\n",
       "      <td>7</td>\n",
       "    </tr>\n",
       "    <tr>\n",
       "      <th>10</th>\n",
       "      <td>11</td>\n",
       "      <td>Canada</td>\n",
       "      <td>7</td>\n",
       "      <td>6</td>\n",
       "      <td>11</td>\n",
       "      <td>24</td>\n",
       "      <td>11</td>\n",
       "    </tr>\n",
       "    <tr>\n",
       "      <th>11</th>\n",
       "      <td>12</td>\n",
       "      <td>Brazil</td>\n",
       "      <td>7</td>\n",
       "      <td>6</td>\n",
       "      <td>8</td>\n",
       "      <td>21</td>\n",
       "      <td>12</td>\n",
       "    </tr>\n",
       "    <tr>\n",
       "      <th>12</th>\n",
       "      <td>13</td>\n",
       "      <td>New Zealand</td>\n",
       "      <td>7</td>\n",
       "      <td>6</td>\n",
       "      <td>7</td>\n",
       "      <td>20</td>\n",
       "      <td>13</td>\n",
       "    </tr>\n",
       "    <tr>\n",
       "      <th>13</th>\n",
       "      <td>14</td>\n",
       "      <td>Cuba</td>\n",
       "      <td>7</td>\n",
       "      <td>3</td>\n",
       "      <td>5</td>\n",
       "      <td>15</td>\n",
       "      <td>18</td>\n",
       "    </tr>\n",
       "    <tr>\n",
       "      <th>14</th>\n",
       "      <td>15</td>\n",
       "      <td>Hungary</td>\n",
       "      <td>6</td>\n",
       "      <td>7</td>\n",
       "      <td>7</td>\n",
       "      <td>20</td>\n",
       "      <td>13</td>\n",
       "    </tr>\n",
       "  </tbody>\n",
       "</table>\n",
       "</div>"
      ],
      "text/plain": [
       "    Rank                    Team/NOC  Gold  Silver  Bronze  Total  \\\n",
       "0      1    United States of America    39      41      33    113   \n",
       "1      2  People's Republic of China    38      32      18     88   \n",
       "2      3                       Japan    27      14      17     58   \n",
       "3      4               Great Britain    22      21      22     65   \n",
       "4      5                         ROC    20      28      23     71   \n",
       "5      6                   Australia    17       7      22     46   \n",
       "6      7                 Netherlands    10      12      14     36   \n",
       "7      8                      France    10      12      11     33   \n",
       "8      9                     Germany    10      11      16     37   \n",
       "9     10                       Italy    10      10      20     40   \n",
       "10    11                      Canada     7       6      11     24   \n",
       "11    12                      Brazil     7       6       8     21   \n",
       "12    13                 New Zealand     7       6       7     20   \n",
       "13    14                        Cuba     7       3       5     15   \n",
       "14    15                     Hungary     6       7       7     20   \n",
       "\n",
       "    Rank by Total  \n",
       "0               1  \n",
       "1               2  \n",
       "2               5  \n",
       "3               4  \n",
       "4               3  \n",
       "5               6  \n",
       "6               9  \n",
       "7              10  \n",
       "8               8  \n",
       "9               7  \n",
       "10             11  \n",
       "11             12  \n",
       "12             13  \n",
       "13             18  \n",
       "14             13  "
      ]
     },
     "execution_count": 28,
     "metadata": {},
     "output_type": "execute_result"
    }
   ],
   "source": [
    "medals.head(15)"
   ]
  },
  {
   "cell_type": "code",
   "execution_count": 56,
   "id": "bb723ec1",
   "metadata": {
    "ExecuteTime": {
     "end_time": "2021-11-30T09:31:25.711600Z",
     "start_time": "2021-11-30T09:31:25.387953Z"
    }
   },
   "outputs": [
    {
     "data": {
      "image/png": "[encoded data removed]",
      "text/plain": [
       "<Figure size 576x864 with 1 Axes>"
      ]
     },
     "metadata": {
      "needs_background": "light"
     },
     "output_type": "display_data"
    }
   ],
   "source": [
    "plt.figure(figsize=[8,12])\n",
    "sns.barplot(data=medals.head(15), y='Team/NOC',x='Gold')\n",
    "plt.xticks( size=15)\n",
    "plt.xlabel('Sum of gold medals', size=15)\n",
    "plt.yticks( size=15)\n",
    "plt.ylabel('Countries', size=20)\n",
    "plt.grid(axis='x')\n",
    "plt.title('Sum of gold medals top 15 countries', size=20)\n",
    "plt.show()"
   ]
  },
  {
   "cell_type": "code",
   "execution_count": 30,
   "id": "6dd50c65",
   "metadata": {
    "ExecuteTime": {
     "end_time": "2021-11-30T09:28:04.109773Z",
     "start_time": "2021-11-30T09:28:03.795910Z"
    },
    "scrolled": true
   },
   "outputs": [
    {
     "data": {
      "image/png": "[encoded data removed]",
      "text/plain": [
       "<Figure size 864x576 with 1 Axes>"
      ]
     },
     "metadata": {
      "needs_background": "light"
     },
     "output_type": "display_data"
    }
   ],
   "source": [
    "plt.figure(figsize=[12,8])\n",
    "sns.lineplot(data=medals.head(15), x='Team/NOC',y='Total', label='Total medals')\n",
    "sns.lineplot(data=medals.head(15), x='Team/NOC',y='Gold', label='Gold medals')\n",
    "plt.xticks(rotation = 80, size=15)\n",
    "plt.xlabel('Sports', size=15)\n",
    "plt.yticks(size=15)\n",
    "plt.ylabel('Sums', size=20)\n",
    "plt.grid(axis= 'both')\n",
    "plt.title('Difference between sums of total medals and gold medals', size=20)\n",
    "plt.show()"
   ]
  },
  {
   "cell_type": "markdown",
   "id": "0302172d",
   "metadata": {},
   "source": [
    "## Teams"
   ]
  },
  {
   "cell_type": "code",
   "execution_count": 31,
   "id": "fa7c1fa1",
   "metadata": {
    "ExecuteTime": {
     "end_time": "2021-11-30T09:28:04.140690Z",
     "start_time": "2021-11-30T09:28:04.114761Z"
    }
   },
   "outputs": [
    {
     "data": {
      "text/html": [
       "<div>\n",
       "<style scoped>\n",
       "    .dataframe tbody tr th:only-of-type {\n",
       "        vertical-align: middle;\n",
       "    }\n",
       "\n",
       "    .dataframe tbody tr th {\n",
       "        vertical-align: top;\n",
       "    }\n",
       "\n",
       "    .dataframe thead th {\n",
       "        text-align: right;\n",
       "    }\n",
       "</style>\n",
       "<table border=\"1\" class=\"dataframe\">\n",
       "  <thead>\n",
       "    <tr style=\"text-align: right;\">\n",
       "      <th></th>\n",
       "      <th>Name</th>\n",
       "      <th>Discipline</th>\n",
       "      <th>NOC</th>\n",
       "      <th>Event</th>\n",
       "    </tr>\n",
       "  </thead>\n",
       "  <tbody>\n",
       "    <tr>\n",
       "      <th>0</th>\n",
       "      <td>Belgium</td>\n",
       "      <td>3x3 Basketball</td>\n",
       "      <td>Belgium</td>\n",
       "      <td>Men</td>\n",
       "    </tr>\n",
       "    <tr>\n",
       "      <th>1</th>\n",
       "      <td>China</td>\n",
       "      <td>3x3 Basketball</td>\n",
       "      <td>People's Republic of China</td>\n",
       "      <td>Men</td>\n",
       "    </tr>\n",
       "    <tr>\n",
       "      <th>2</th>\n",
       "      <td>China</td>\n",
       "      <td>3x3 Basketball</td>\n",
       "      <td>People's Republic of China</td>\n",
       "      <td>Women</td>\n",
       "    </tr>\n",
       "    <tr>\n",
       "      <th>3</th>\n",
       "      <td>France</td>\n",
       "      <td>3x3 Basketball</td>\n",
       "      <td>France</td>\n",
       "      <td>Women</td>\n",
       "    </tr>\n",
       "    <tr>\n",
       "      <th>4</th>\n",
       "      <td>Italy</td>\n",
       "      <td>3x3 Basketball</td>\n",
       "      <td>Italy</td>\n",
       "      <td>Women</td>\n",
       "    </tr>\n",
       "  </tbody>\n",
       "</table>\n",
       "</div>"
      ],
      "text/plain": [
       "      Name      Discipline                         NOC  Event\n",
       "0  Belgium  3x3 Basketball                     Belgium    Men\n",
       "1    China  3x3 Basketball  People's Republic of China    Men\n",
       "2    China  3x3 Basketball  People's Republic of China  Women\n",
       "3   France  3x3 Basketball                      France  Women\n",
       "4    Italy  3x3 Basketball                       Italy  Women"
      ]
     },
     "execution_count": 31,
     "metadata": {},
     "output_type": "execute_result"
    }
   ],
   "source": [
    "teams.head(5)"
   ]
  },
  {
   "cell_type": "code",
   "execution_count": 32,
   "id": "260a7a1e",
   "metadata": {
    "ExecuteTime": {
     "end_time": "2021-11-30T09:28:04.171608Z",
     "start_time": "2021-11-30T09:28:04.144680Z"
    },
    "scrolled": true
   },
   "outputs": [
    {
     "data": {
      "text/html": [
       "<div>\n",
       "<style scoped>\n",
       "    .dataframe tbody tr th:only-of-type {\n",
       "        vertical-align: middle;\n",
       "    }\n",
       "\n",
       "    .dataframe tbody tr th {\n",
       "        vertical-align: top;\n",
       "    }\n",
       "\n",
       "    .dataframe thead th {\n",
       "        text-align: right;\n",
       "    }\n",
       "</style>\n",
       "<table border=\"1\" class=\"dataframe\">\n",
       "  <thead>\n",
       "    <tr style=\"text-align: right;\">\n",
       "      <th></th>\n",
       "      <th>Name</th>\n",
       "      <th>Discipline</th>\n",
       "      <th>NOC</th>\n",
       "      <th>Event</th>\n",
       "    </tr>\n",
       "  </thead>\n",
       "  <tbody>\n",
       "    <tr>\n",
       "      <th>5</th>\n",
       "      <td>Japan</td>\n",
       "      <td>3x3 Basketball</td>\n",
       "      <td>Japan</td>\n",
       "      <td>Men</td>\n",
       "    </tr>\n",
       "    <tr>\n",
       "      <th>6</th>\n",
       "      <td>Japan</td>\n",
       "      <td>3x3 Basketball</td>\n",
       "      <td>Japan</td>\n",
       "      <td>Women</td>\n",
       "    </tr>\n",
       "    <tr>\n",
       "      <th>43</th>\n",
       "      <td>Japan</td>\n",
       "      <td>Archery</td>\n",
       "      <td>Japan</td>\n",
       "      <td>Men's Team</td>\n",
       "    </tr>\n",
       "    <tr>\n",
       "      <th>44</th>\n",
       "      <td>Japan</td>\n",
       "      <td>Archery</td>\n",
       "      <td>Japan</td>\n",
       "      <td>Mixed Team</td>\n",
       "    </tr>\n",
       "    <tr>\n",
       "      <th>45</th>\n",
       "      <td>Japan</td>\n",
       "      <td>Archery</td>\n",
       "      <td>Japan</td>\n",
       "      <td>Women's Team</td>\n",
       "    </tr>\n",
       "    <tr>\n",
       "      <th>81</th>\n",
       "      <td>Japan</td>\n",
       "      <td>Artistic Gymnastics</td>\n",
       "      <td>Japan</td>\n",
       "      <td>Men's Team</td>\n",
       "    </tr>\n",
       "    <tr>\n",
       "      <th>82</th>\n",
       "      <td>Japan</td>\n",
       "      <td>Artistic Gymnastics</td>\n",
       "      <td>Japan</td>\n",
       "      <td>Women's Team</td>\n",
       "    </tr>\n",
       "    <tr>\n",
       "      <th>111</th>\n",
       "      <td>Japan</td>\n",
       "      <td>Artistic Swimming</td>\n",
       "      <td>Japan</td>\n",
       "      <td>Duet</td>\n",
       "    </tr>\n",
       "    <tr>\n",
       "      <th>112</th>\n",
       "      <td>Japan</td>\n",
       "      <td>Artistic Swimming</td>\n",
       "      <td>Japan</td>\n",
       "      <td>Team</td>\n",
       "    </tr>\n",
       "    <tr>\n",
       "      <th>174</th>\n",
       "      <td>Japan</td>\n",
       "      <td>Athletics</td>\n",
       "      <td>Japan</td>\n",
       "      <td>Men's 4 x 100m Relay</td>\n",
       "    </tr>\n",
       "    <tr>\n",
       "      <th>175</th>\n",
       "      <td>Japan</td>\n",
       "      <td>Athletics</td>\n",
       "      <td>Japan</td>\n",
       "      <td>Men's 4 x 400m Relay</td>\n",
       "    </tr>\n",
       "    <tr>\n",
       "      <th>176</th>\n",
       "      <td>Japan</td>\n",
       "      <td>Athletics</td>\n",
       "      <td>Japan</td>\n",
       "      <td>Women's 4 x 100m Relay</td>\n",
       "    </tr>\n",
       "    <tr>\n",
       "      <th>209</th>\n",
       "      <td>Japan</td>\n",
       "      <td>Baseball/Softball</td>\n",
       "      <td>Japan</td>\n",
       "      <td>Baseball</td>\n",
       "    </tr>\n",
       "    <tr>\n",
       "      <th>210</th>\n",
       "      <td>Japan</td>\n",
       "      <td>Baseball/Softball</td>\n",
       "      <td>Japan</td>\n",
       "      <td>Softball</td>\n",
       "    </tr>\n",
       "    <tr>\n",
       "      <th>228</th>\n",
       "      <td>Japan</td>\n",
       "      <td>Basketball</td>\n",
       "      <td>Japan</td>\n",
       "      <td>Men</td>\n",
       "    </tr>\n",
       "    <tr>\n",
       "      <th>229</th>\n",
       "      <td>Japan</td>\n",
       "      <td>Basketball</td>\n",
       "      <td>Japan</td>\n",
       "      <td>Women</td>\n",
       "    </tr>\n",
       "    <tr>\n",
       "      <th>326</th>\n",
       "      <td>Japan</td>\n",
       "      <td>Cycling Track</td>\n",
       "      <td>Japan</td>\n",
       "      <td>Women's Madison</td>\n",
       "    </tr>\n",
       "    <tr>\n",
       "      <th>379</th>\n",
       "      <td>Japan</td>\n",
       "      <td>Fencing</td>\n",
       "      <td>Japan</td>\n",
       "      <td>Men's Épée Team</td>\n",
       "    </tr>\n",
       "    <tr>\n",
       "      <th>380</th>\n",
       "      <td>Japan</td>\n",
       "      <td>Fencing</td>\n",
       "      <td>Japan</td>\n",
       "      <td>Men's Foil Team</td>\n",
       "    </tr>\n",
       "    <tr>\n",
       "      <th>381</th>\n",
       "      <td>Japan</td>\n",
       "      <td>Fencing</td>\n",
       "      <td>Japan</td>\n",
       "      <td>Men's Sabre Team</td>\n",
       "    </tr>\n",
       "    <tr>\n",
       "      <th>382</th>\n",
       "      <td>Japan</td>\n",
       "      <td>Fencing</td>\n",
       "      <td>Japan</td>\n",
       "      <td>Women's Foil Team</td>\n",
       "    </tr>\n",
       "    <tr>\n",
       "      <th>383</th>\n",
       "      <td>Japan</td>\n",
       "      <td>Fencing</td>\n",
       "      <td>Japan</td>\n",
       "      <td>Women's Sabre Team</td>\n",
       "    </tr>\n",
       "    <tr>\n",
       "      <th>418</th>\n",
       "      <td>Japan</td>\n",
       "      <td>Football</td>\n",
       "      <td>Japan</td>\n",
       "      <td>Men</td>\n",
       "    </tr>\n",
       "    <tr>\n",
       "      <th>419</th>\n",
       "      <td>Japan</td>\n",
       "      <td>Football</td>\n",
       "      <td>Japan</td>\n",
       "      <td>Women</td>\n",
       "    </tr>\n",
       "    <tr>\n",
       "      <th>443</th>\n",
       "      <td>Japan</td>\n",
       "      <td>Handball</td>\n",
       "      <td>Japan</td>\n",
       "      <td>Men</td>\n",
       "    </tr>\n",
       "    <tr>\n",
       "      <th>444</th>\n",
       "      <td>Japan</td>\n",
       "      <td>Handball</td>\n",
       "      <td>Japan</td>\n",
       "      <td>Women</td>\n",
       "    </tr>\n",
       "    <tr>\n",
       "      <th>470</th>\n",
       "      <td>Japan</td>\n",
       "      <td>Hockey</td>\n",
       "      <td>Japan</td>\n",
       "      <td>Men</td>\n",
       "    </tr>\n",
       "    <tr>\n",
       "      <th>471</th>\n",
       "      <td>Japan</td>\n",
       "      <td>Hockey</td>\n",
       "      <td>Japan</td>\n",
       "      <td>Women</td>\n",
       "    </tr>\n",
       "    <tr>\n",
       "      <th>489</th>\n",
       "      <td>Japan</td>\n",
       "      <td>Rhythmic Gymnastics</td>\n",
       "      <td>Japan</td>\n",
       "      <td>Group All-Around</td>\n",
       "    </tr>\n",
       "    <tr>\n",
       "      <th>507</th>\n",
       "      <td>Japan</td>\n",
       "      <td>Rugby Sevens</td>\n",
       "      <td>Japan</td>\n",
       "      <td>Men</td>\n",
       "    </tr>\n",
       "    <tr>\n",
       "      <th>508</th>\n",
       "      <td>Japan</td>\n",
       "      <td>Rugby Sevens</td>\n",
       "      <td>Japan</td>\n",
       "      <td>Women</td>\n",
       "    </tr>\n",
       "    <tr>\n",
       "      <th>587</th>\n",
       "      <td>Japan</td>\n",
       "      <td>Swimming</td>\n",
       "      <td>Japan</td>\n",
       "      <td>Men's 4 x 100m Freestyle Relay</td>\n",
       "    </tr>\n",
       "    <tr>\n",
       "      <th>588</th>\n",
       "      <td>Japan</td>\n",
       "      <td>Swimming</td>\n",
       "      <td>Japan</td>\n",
       "      <td>Men's 4 x 100m Medley Relay</td>\n",
       "    </tr>\n",
       "    <tr>\n",
       "      <th>589</th>\n",
       "      <td>Japan</td>\n",
       "      <td>Swimming</td>\n",
       "      <td>Japan</td>\n",
       "      <td>Men's 4 x 200m Freestyle Relay</td>\n",
       "    </tr>\n",
       "    <tr>\n",
       "      <th>590</th>\n",
       "      <td>Japan</td>\n",
       "      <td>Swimming</td>\n",
       "      <td>Japan</td>\n",
       "      <td>Mixed 4 x 100m Medley Relay</td>\n",
       "    </tr>\n",
       "    <tr>\n",
       "      <th>591</th>\n",
       "      <td>Japan</td>\n",
       "      <td>Swimming</td>\n",
       "      <td>Japan</td>\n",
       "      <td>Women's 4 x 100m Freestyle Relay</td>\n",
       "    </tr>\n",
       "    <tr>\n",
       "      <th>592</th>\n",
       "      <td>Japan</td>\n",
       "      <td>Swimming</td>\n",
       "      <td>Japan</td>\n",
       "      <td>Women's 4 x 100m Medley Relay</td>\n",
       "    </tr>\n",
       "    <tr>\n",
       "      <th>593</th>\n",
       "      <td>Japan</td>\n",
       "      <td>Swimming</td>\n",
       "      <td>Japan</td>\n",
       "      <td>Women's 4 x 200m Freestyle Relay</td>\n",
       "    </tr>\n",
       "    <tr>\n",
       "      <th>662</th>\n",
       "      <td>Japan</td>\n",
       "      <td>Table Tennis</td>\n",
       "      <td>Japan</td>\n",
       "      <td>Men's Team</td>\n",
       "    </tr>\n",
       "    <tr>\n",
       "      <th>664</th>\n",
       "      <td>Japan</td>\n",
       "      <td>Table Tennis</td>\n",
       "      <td>Japan</td>\n",
       "      <td>Women's Team</td>\n",
       "    </tr>\n",
       "    <tr>\n",
       "      <th>688</th>\n",
       "      <td>Japan</td>\n",
       "      <td>Triathlon</td>\n",
       "      <td>Japan</td>\n",
       "      <td>Mixed Relay</td>\n",
       "    </tr>\n",
       "    <tr>\n",
       "      <th>708</th>\n",
       "      <td>Japan</td>\n",
       "      <td>Volleyball</td>\n",
       "      <td>Japan</td>\n",
       "      <td>Men</td>\n",
       "    </tr>\n",
       "    <tr>\n",
       "      <th>709</th>\n",
       "      <td>Japan</td>\n",
       "      <td>Volleyball</td>\n",
       "      <td>Japan</td>\n",
       "      <td>Women</td>\n",
       "    </tr>\n",
       "    <tr>\n",
       "      <th>730</th>\n",
       "      <td>Japan</td>\n",
       "      <td>Water Polo</td>\n",
       "      <td>Japan</td>\n",
       "      <td>Men</td>\n",
       "    </tr>\n",
       "    <tr>\n",
       "      <th>731</th>\n",
       "      <td>Japan</td>\n",
       "      <td>Water Polo</td>\n",
       "      <td>Japan</td>\n",
       "      <td>Women</td>\n",
       "    </tr>\n",
       "  </tbody>\n",
       "</table>\n",
       "</div>"
      ],
      "text/plain": [
       "      Name           Discipline    NOC                             Event\n",
       "5    Japan       3x3 Basketball  Japan                               Men\n",
       "6    Japan       3x3 Basketball  Japan                             Women\n",
       "43   Japan              Archery  Japan                        Men's Team\n",
       "44   Japan              Archery  Japan                        Mixed Team\n",
       "45   Japan              Archery  Japan                      Women's Team\n",
       "81   Japan  Artistic Gymnastics  Japan                        Men's Team\n",
       "82   Japan  Artistic Gymnastics  Japan                      Women's Team\n",
       "111  Japan    Artistic Swimming  Japan                              Duet\n",
       "112  Japan    Artistic Swimming  Japan                              Team\n",
       "174  Japan            Athletics  Japan              Men's 4 x 100m Relay\n",
       "175  Japan            Athletics  Japan              Men's 4 x 400m Relay\n",
       "176  Japan            Athletics  Japan            Women's 4 x 100m Relay\n",
       "209  Japan    Baseball/Softball  Japan                          Baseball\n",
       "210  Japan    Baseball/Softball  Japan                          Softball\n",
       "228  Japan           Basketball  Japan                               Men\n",
       "229  Japan           Basketball  Japan                             Women\n",
       "326  Japan        Cycling Track  Japan                   Women's Madison\n",
       "379  Japan              Fencing  Japan                   Men's Épée Team\n",
       "380  Japan              Fencing  Japan                   Men's Foil Team\n",
       "381  Japan              Fencing  Japan                  Men's Sabre Team\n",
       "382  Japan              Fencing  Japan                 Women's Foil Team\n",
       "383  Japan              Fencing  Japan                Women's Sabre Team\n",
       "418  Japan             Football  Japan                               Men\n",
       "419  Japan             Football  Japan                             Women\n",
       "443  Japan             Handball  Japan                               Men\n",
       "444  Japan             Handball  Japan                             Women\n",
       "470  Japan               Hockey  Japan                               Men\n",
       "471  Japan               Hockey  Japan                             Women\n",
       "489  Japan  Rhythmic Gymnastics  Japan                  Group All-Around\n",
       "507  Japan         Rugby Sevens  Japan                               Men\n",
       "508  Japan         Rugby Sevens  Japan                             Women\n",
       "587  Japan             Swimming  Japan    Men's 4 x 100m Freestyle Relay\n",
       "588  Japan             Swimming  Japan       Men's 4 x 100m Medley Relay\n",
       "589  Japan             Swimming  Japan    Men's 4 x 200m Freestyle Relay\n",
       "590  Japan             Swimming  Japan       Mixed 4 x 100m Medley Relay\n",
       "591  Japan             Swimming  Japan  Women's 4 x 100m Freestyle Relay\n",
       "592  Japan             Swimming  Japan     Women's 4 x 100m Medley Relay\n",
       "593  Japan             Swimming  Japan  Women's 4 x 200m Freestyle Relay\n",
       "662  Japan         Table Tennis  Japan                        Men's Team\n",
       "664  Japan         Table Tennis  Japan                      Women's Team\n",
       "688  Japan            Triathlon  Japan                       Mixed Relay\n",
       "708  Japan           Volleyball  Japan                               Men\n",
       "709  Japan           Volleyball  Japan                             Women\n",
       "730  Japan           Water Polo  Japan                               Men\n",
       "731  Japan           Water Polo  Japan                             Women"
      ]
     },
     "execution_count": 32,
     "metadata": {},
     "output_type": "execute_result"
    }
   ],
   "source": [
    "teams[teams.Name=='Japan']"
   ]
  },
  {
   "cell_type": "code",
   "execution_count": 33,
   "id": "e414a735",
   "metadata": {
    "ExecuteTime": {
     "end_time": "2021-11-30T09:28:04.205846Z",
     "start_time": "2021-11-30T09:28:04.173603Z"
    }
   },
   "outputs": [
    {
     "data": {
      "text/html": [
       "<div>\n",
       "<style scoped>\n",
       "    .dataframe tbody tr th:only-of-type {\n",
       "        vertical-align: middle;\n",
       "    }\n",
       "\n",
       "    .dataframe tbody tr th {\n",
       "        vertical-align: top;\n",
       "    }\n",
       "\n",
       "    .dataframe thead th {\n",
       "        text-align: right;\n",
       "    }\n",
       "</style>\n",
       "<table border=\"1\" class=\"dataframe\">\n",
       "  <thead>\n",
       "    <tr style=\"text-align: right;\">\n",
       "      <th></th>\n",
       "      <th></th>\n",
       "      <th>Event</th>\n",
       "    </tr>\n",
       "    <tr>\n",
       "      <th>Name</th>\n",
       "      <th>Discipline</th>\n",
       "      <th></th>\n",
       "    </tr>\n",
       "  </thead>\n",
       "  <tbody>\n",
       "    <tr>\n",
       "      <th>Japan</th>\n",
       "      <th>Swimming</th>\n",
       "      <td>7</td>\n",
       "    </tr>\n",
       "    <tr>\n",
       "      <th>ROC</th>\n",
       "      <th>Swimming</th>\n",
       "      <td>7</td>\n",
       "    </tr>\n",
       "    <tr>\n",
       "      <th>United States</th>\n",
       "      <th>Swimming</th>\n",
       "      <td>7</td>\n",
       "    </tr>\n",
       "    <tr>\n",
       "      <th>Germany</th>\n",
       "      <th>Swimming</th>\n",
       "      <td>7</td>\n",
       "    </tr>\n",
       "    <tr>\n",
       "      <th>Australia</th>\n",
       "      <th>Swimming</th>\n",
       "      <td>7</td>\n",
       "    </tr>\n",
       "    <tr>\n",
       "      <th>Great Britain</th>\n",
       "      <th>Swimming</th>\n",
       "      <td>6</td>\n",
       "    </tr>\n",
       "    <tr>\n",
       "      <th>Italy</th>\n",
       "      <th>Fencing</th>\n",
       "      <td>6</td>\n",
       "    </tr>\n",
       "    <tr>\n",
       "      <th>China</th>\n",
       "      <th>Swimming</th>\n",
       "      <td>6</td>\n",
       "    </tr>\n",
       "    <tr>\n",
       "      <th>Brazil</th>\n",
       "      <th>Swimming</th>\n",
       "      <td>6</td>\n",
       "    </tr>\n",
       "    <tr>\n",
       "      <th>ROC</th>\n",
       "      <th>Fencing</th>\n",
       "      <td>6</td>\n",
       "    </tr>\n",
       "  </tbody>\n",
       "</table>\n",
       "</div>"
      ],
      "text/plain": [
       "                          Event\n",
       "Name          Discipline       \n",
       "Japan         Swimming        7\n",
       "ROC           Swimming        7\n",
       "United States Swimming        7\n",
       "Germany       Swimming        7\n",
       "Australia     Swimming        7\n",
       "Great Britain Swimming        6\n",
       "Italy         Fencing         6\n",
       "China         Swimming        6\n",
       "Brazil        Swimming        6\n",
       "ROC           Fencing         6"
      ]
     },
     "execution_count": 33,
     "metadata": {},
     "output_type": "execute_result"
    }
   ],
   "source": [
    "teams.groupby(['Name', 'Discipline'])[['Event']].count().sort_values('Event', ascending=False).head(10)"
   ]
  },
  {
   "cell_type": "code",
   "execution_count": 34,
   "id": "6d4dd1e6",
   "metadata": {
    "ExecuteTime": {
     "end_time": "2021-11-30T09:28:04.233771Z",
     "start_time": "2021-11-30T09:28:04.212828Z"
    }
   },
   "outputs": [],
   "source": [
    "events = teams.groupby('Event')[['Name']].count().sort_values('Name', ascending=False)[:10].reset_index()"
   ]
  },
  {
   "cell_type": "code",
   "execution_count": 35,
   "id": "0ef21e8e",
   "metadata": {
    "ExecuteTime": {
     "end_time": "2021-11-30T09:28:04.264689Z",
     "start_time": "2021-11-30T09:28:04.238757Z"
    }
   },
   "outputs": [],
   "source": [
    "events.loc[10, 'Name'] = teams.groupby('Event')[['Name']].count().sort_values('Name', ascending=False)[11:].sum()[0]"
   ]
  },
  {
   "cell_type": "code",
   "execution_count": 36,
   "id": "7193f84b",
   "metadata": {
    "ExecuteTime": {
     "end_time": "2021-11-30T09:28:04.280647Z",
     "start_time": "2021-11-30T09:28:04.266683Z"
    }
   },
   "outputs": [
    {
     "data": {
      "text/plain": [
       "295"
      ]
     },
     "execution_count": 36,
     "metadata": {},
     "output_type": "execute_result"
    }
   ],
   "source": [
    "teams.groupby('Event')[['Name']].count().sort_values('Name', ascending=False)[11:].sum()[0]"
   ]
  },
  {
   "cell_type": "code",
   "execution_count": 37,
   "id": "2e1e2f23",
   "metadata": {
    "ExecuteTime": {
     "end_time": "2021-11-30T09:28:04.312072Z",
     "start_time": "2021-11-30T09:28:04.283637Z"
    }
   },
   "outputs": [
    {
     "data": {
      "text/html": [
       "<div>\n",
       "<style scoped>\n",
       "    .dataframe tbody tr th:only-of-type {\n",
       "        vertical-align: middle;\n",
       "    }\n",
       "\n",
       "    .dataframe tbody tr th {\n",
       "        vertical-align: top;\n",
       "    }\n",
       "\n",
       "    .dataframe thead th {\n",
       "        text-align: right;\n",
       "    }\n",
       "</style>\n",
       "<table border=\"1\" class=\"dataframe\">\n",
       "  <thead>\n",
       "    <tr style=\"text-align: right;\">\n",
       "      <th></th>\n",
       "      <th>Event</th>\n",
       "      <th>Name</th>\n",
       "    </tr>\n",
       "  </thead>\n",
       "  <tbody>\n",
       "    <tr>\n",
       "      <th>0</th>\n",
       "      <td>Men</td>\n",
       "      <td>120.0</td>\n",
       "    </tr>\n",
       "    <tr>\n",
       "      <th>1</th>\n",
       "      <td>Women</td>\n",
       "      <td>114.0</td>\n",
       "    </tr>\n",
       "    <tr>\n",
       "      <th>2</th>\n",
       "      <td>Men's Team</td>\n",
       "      <td>40.0</td>\n",
       "    </tr>\n",
       "    <tr>\n",
       "      <th>3</th>\n",
       "      <td>Women's Team</td>\n",
       "      <td>40.0</td>\n",
       "    </tr>\n",
       "    <tr>\n",
       "      <th>4</th>\n",
       "      <td>Mixed Team</td>\n",
       "      <td>29.0</td>\n",
       "    </tr>\n",
       "    <tr>\n",
       "      <th>5</th>\n",
       "      <td>Duet</td>\n",
       "      <td>22.0</td>\n",
       "    </tr>\n",
       "    <tr>\n",
       "      <th>6</th>\n",
       "      <td>Mixed Relay</td>\n",
       "      <td>18.0</td>\n",
       "    </tr>\n",
       "    <tr>\n",
       "      <th>7</th>\n",
       "      <td>Women's 4 x 200m Freestyle Relay</td>\n",
       "      <td>17.0</td>\n",
       "    </tr>\n",
       "    <tr>\n",
       "      <th>8</th>\n",
       "      <td>Women's 4 x 100m Freestyle Relay</td>\n",
       "      <td>16.0</td>\n",
       "    </tr>\n",
       "    <tr>\n",
       "      <th>9</th>\n",
       "      <td>Mixed 4 x 100m Medley Relay</td>\n",
       "      <td>16.0</td>\n",
       "    </tr>\n",
       "    <tr>\n",
       "      <th>10</th>\n",
       "      <td>NaN</td>\n",
       "      <td>295.0</td>\n",
       "    </tr>\n",
       "  </tbody>\n",
       "</table>\n",
       "</div>"
      ],
      "text/plain": [
       "                               Event   Name\n",
       "0                                Men  120.0\n",
       "1                              Women  114.0\n",
       "2                         Men's Team   40.0\n",
       "3                       Women's Team   40.0\n",
       "4                         Mixed Team   29.0\n",
       "5                               Duet   22.0\n",
       "6                        Mixed Relay   18.0\n",
       "7   Women's 4 x 200m Freestyle Relay   17.0\n",
       "8   Women's 4 x 100m Freestyle Relay   16.0\n",
       "9        Mixed 4 x 100m Medley Relay   16.0\n",
       "10                               NaN  295.0"
      ]
     },
     "execution_count": 37,
     "metadata": {},
     "output_type": "execute_result"
    }
   ],
   "source": [
    "events"
   ]
  },
  {
   "cell_type": "code",
   "execution_count": 38,
   "id": "54f86dca",
   "metadata": {
    "ExecuteTime": {
     "end_time": "2021-11-30T09:28:04.533500Z",
     "start_time": "2021-11-30T09:28:04.314068Z"
    }
   },
   "outputs": [
    {
     "data": {
      "image/png": "[encoded data removed]",
      "text/plain": [
       "<Figure size 864x576 with 1 Axes>"
      ]
     },
     "metadata": {},
     "output_type": "display_data"
    }
   ],
   "source": [
    "plt.figure(figsize=[12,8])\n",
    "explode = (0.3, 0.15, 0, 0, 0, 0, 0,0,0,0,0)\n",
    "patches, texts, autotexts = plt.pie(events.Name,\n",
    "        explode = explode,\n",
    "        labels=events.Event,\n",
    "        autopct='%.1f%%',\n",
    "        pctdistance=0.85,\n",
    "        labeldistance=1.1,)\n",
    "\n",
    "for text in texts:\n",
    "    text.set_color('black')\n",
    "    text.set_size(13)\n",
    "    \n",
    "for autotext in autotexts:\n",
    "    autotext.set_color('black') \n",
    "    autotext.set_size(12)\n",
    "    \n",
    "circle = plt.Circle( (0,0), 0.6, color='grey')\n",
    "p = plt.gcf()\n",
    "p.gca().add_artist(circle)\n",
    "plt.title('Types of participations per event', color='w',x=-0.1,y=1.1, size=20)\n",
    "plt.show()"
   ]
  },
  {
   "cell_type": "code",
   "execution_count": null,
   "id": "67e1e70d",
   "metadata": {},
   "outputs": [],
   "source": []
  }
 ],
 "metadata": {
  "kernelspec": {
   "display_name": "Python 3 (ipykernel)",
   "language": "python",
   "name": "python3"
  },
  "language_info": {
   "codemirror_mode": {
    "name": "ipython",
    "version": 3
   },
   "file_extension": ".py",
   "mimetype": "text/x-python",
   "name": "python",
   "nbconvert_exporter": "python",
   "pygments_lexer": "ipython3",
   "version": "3.8.11"
  }
 },
 "nbformat": 4,
 "nbformat_minor": 5
}
